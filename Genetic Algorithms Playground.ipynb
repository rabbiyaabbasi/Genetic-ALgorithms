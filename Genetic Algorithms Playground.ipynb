{
 "cells": [
  {
   "cell_type": "markdown",
   "metadata": {
    "toc": true
   },
   "source": [
    "<h1>Table of Contents<span class=\"tocSkip\"></span></h1>\n",
    "<div class=\"toc\"><ul class=\"toc-item\"><li><span><a href=\"#One-or-Two-point-crossover\" data-toc-modified-id=\"One-or-Two-point-crossover-1\"><span class=\"toc-item-num\">1&nbsp;&nbsp;</span>One or Two point crossover</a></span></li><li><span><a href=\"#Fitness-proportionate-selection\" data-toc-modified-id=\"Fitness-proportionate-selection-2\"><span class=\"toc-item-num\">2&nbsp;&nbsp;</span>Fitness proportionate selection</a></span></li><li><span><a href=\"#Tournment-Selection\" data-toc-modified-id=\"Tournment-Selection-3\"><span class=\"toc-item-num\">3&nbsp;&nbsp;</span>Tournment Selection</a></span></li><li><span><a href=\"#Mutation\" data-toc-modified-id=\"Mutation-4\"><span class=\"toc-item-num\">4&nbsp;&nbsp;</span>Mutation</a></span></li><li><span><a href=\"#Generational-Genetic-Algorithm\" data-toc-modified-id=\"Generational-Genetic-Algorithm-5\"><span class=\"toc-item-num\">5&nbsp;&nbsp;</span>Generational Genetic Algorithm</a></span><ul class=\"toc-item\"><li><span><a href=\"#Using-Fitness-Proportionate-Selection\" data-toc-modified-id=\"Using-Fitness-Proportionate-Selection-5.1\"><span class=\"toc-item-num\">5.1&nbsp;&nbsp;</span>Using Fitness Proportionate Selection</a></span></li><li><span><a href=\"#Using-Tournment-Selection\" data-toc-modified-id=\"Using-Tournment-Selection-5.2\"><span class=\"toc-item-num\">5.2&nbsp;&nbsp;</span>Using Tournment Selection</a></span></li></ul></li><li><span><a href=\"#A-Mutation-Hill-Climber\" data-toc-modified-id=\"A-Mutation-Hill-Climber-6\"><span class=\"toc-item-num\">6&nbsp;&nbsp;</span>A Mutation Hill Climber</a></span></li><li><span><a href=\"#Uniform-Crossover\" data-toc-modified-id=\"Uniform-Crossover-7\"><span class=\"toc-item-num\">7&nbsp;&nbsp;</span>Uniform Crossover</a></span></li><li><span><a href=\"#Rank-Based-Selection\" data-toc-modified-id=\"Rank-Based-Selection-8\"><span class=\"toc-item-num\">8&nbsp;&nbsp;</span>Rank Based Selection</a></span><ul class=\"toc-item\"><li><span><a href=\"#Generational-Genetic-Algorithm-Example\" data-toc-modified-id=\"Generational-Genetic-Algorithm-Example-8.1\"><span class=\"toc-item-num\">8.1&nbsp;&nbsp;</span>Generational Genetic Algorithm Example</a></span></li></ul></li><li><span><a href=\"#Steady-State-Genetic-Algorithm\" data-toc-modified-id=\"Steady-State-Genetic-Algorithm-9\"><span class=\"toc-item-num\">9&nbsp;&nbsp;</span>Steady State Genetic Algorithm</a></span></li></ul></div>"
   ]
  },
  {
   "cell_type": "markdown",
   "metadata": {},
   "source": [
    "# Genetic Algorithms Playground"
   ]
  },
  {
   "cell_type": "code",
   "execution_count": 11,
   "metadata": {},
   "outputs": [],
   "source": [
    "import numpy as np\n",
    "import pandas as pd\n",
    "import math\n",
    "import random\n",
    "import matplotlib.pyplot as plt"
   ]
  },
  {
   "cell_type": "markdown",
   "metadata": {},
   "source": [
    "## One or Two point crossover"
   ]
  },
  {
   "cell_type": "code",
   "execution_count": 15,
   "metadata": {},
   "outputs": [
    {
     "name": "stdout",
     "output_type": "stream",
     "text": [
      "111111000001\n"
     ]
    }
   ],
   "source": [
    "one = '000000000001'\n",
    "two = '111111101111'\n",
    "\n",
    "def crossover(one, two, method):\n",
    "    if (len(one)==len(two)) == True and method < 3:\n",
    "        block = math.ceil(len(one)/(method+1))\n",
    "        res = []\n",
    "        count = 1\n",
    "        for i in range(0, len(one), block):\n",
    "            if count % 2 == 0:\n",
    "                res.append(one[i:i+block])\n",
    "            else:\n",
    "                res.append(two[i:i+block])\n",
    "            count += 1\n",
    "    else:\n",
    "        return print('Just one or two points crossover allowed!')\n",
    "    \n",
    "    return ''.join(res)\n",
    "    \n",
    "print(crossover(one, two, 1))"
   ]
  },
  {
   "cell_type": "markdown",
   "metadata": {},
   "source": [
    "## Fitness proportionate selection"
   ]
  },
  {
   "cell_type": "code",
   "execution_count": 16,
   "metadata": {},
   "outputs": [
    {
     "data": {
      "image/png": "[encoded data removed]",
      "text/plain": [
       "<Figure size 432x288 with 1 Axes>"
      ]
     },
     "metadata": {},
     "output_type": "display_data"
    },
    {
     "name": "stdout",
     "output_type": "stream",
     "text": [
      "Selected parents:  ['110001110000', '000000000001']\n"
     ]
    }
   ],
   "source": [
    "tree = '111100001100'\n",
    "four = '110001110000'\n",
    "pop = [one, two, tree, four]\n",
    "\n",
    "fitnesses = []\n",
    "for i in pop:\n",
    "    fitnesses.append(i.count('1'))\n",
    "    \n",
    "portions = []\n",
    "for i in fitnesses:\n",
    "    portions.append(i/sum(fitnesses))\n",
    "\n",
    "\n",
    "colors = ['gold', 'yellowgreen', 'lightcoral', 'lightskyblue']\n",
    "explode = (0, 0.1, 0, 0)  # explode 1st slice\n",
    "plt.pie(portions, explode=explode, labels= pop, colors=colors, autopct='%1.1f%%', \n",
    "        shadow=True, startangle=140)\n",
    "plt.axis('equal')\n",
    "plt.title('Fitness Proportionate Selection')\n",
    "plt.show()\n",
    "\n",
    "parents = []\n",
    "for i in range(2):\n",
    "    parents.append(np.random.choice(pop, p=portions))\n",
    "    \n",
    "print('Selected parents: ', parents)"
   ]
  },
  {
   "cell_type": "markdown",
   "metadata": {},
   "source": [
    "## Tournment Selection"
   ]
  },
  {
   "cell_type": "code",
   "execution_count": 185,
   "metadata": {},
   "outputs": [
    {
     "name": "stdout",
     "output_type": "stream",
     "text": [
      "100\n"
     ]
    },
    {
     "data": {
      "text/plain": [
       "2"
      ]
     },
     "execution_count": 185,
     "metadata": {},
     "output_type": "execute_result"
    }
   ],
   "source": [
    "def tournment(pop, proportion_to_keep):\n",
    "    '''\n",
    "    If proportion_to_keep is less than 1, we input the percentage proportion of \n",
    "    the amount of individual we want to keep. If proportion is instead greater \n",
    "    than 1, we input the explicit number of individuals we want to keep. \n",
    "    '''\n",
    "    if proportion_to_keep < 1:\n",
    "        delete_num = len(pop)- (int(len(pop)*proportion_to_keep))\n",
    "    else:\n",
    "        delete_num = int(len(pop)- proportion_to_keep)\n",
    "    for i in range(delete_num):\n",
    "        a = pop.pop(random.randrange(len(pop)))\n",
    "        b = pop.pop(random.randrange(len(pop)))\n",
    "        if a.count('1') > b.count('1'):\n",
    "            pop.append(a)\n",
    "        else:\n",
    "            pop.append(b)\n",
    "    return pop\n",
    "        \n",
    "w= population(100, 8)\n",
    "print(len(w))\n",
    "q= tournment(w, 2)\n",
    "len(q)"
   ]
  },
  {
   "cell_type": "markdown",
   "metadata": {},
   "source": [
    "## Mutation"
   ]
  },
  {
   "cell_type": "code",
   "execution_count": 2,
   "metadata": {},
   "outputs": [],
   "source": [
    "def mutations(individual):\n",
    "    res = []\n",
    "    for i in individual:\n",
    "        if int(i) == 0:\n",
    "            r = 1\n",
    "        elif int(i) == 1:\n",
    "            r = 0\n",
    "        res.append(np.random.choice([int(i), r], p=[0.7, 0.3]))\n",
    "    return ''.join([str(i) for i in res])"
   ]
  },
  {
   "cell_type": "markdown",
   "metadata": {},
   "source": [
    "## Generational Genetic Algorithm"
   ]
  },
  {
   "cell_type": "code",
   "execution_count": 7,
   "metadata": {},
   "outputs": [],
   "source": [
    "def fitness_proportionate_selection(pop, fitnesses):\n",
    "    portions = []\n",
    "    for i in fitnesses:\n",
    "        portions.append(i/sum(fitnesses))\n",
    "\n",
    "    parents = []\n",
    "    for i in range(2):\n",
    "        parents.append(np.random.choice(pop, p=portions))\n",
    "        \n",
    "    return parents"
   ]
  },
  {
   "cell_type": "code",
   "execution_count": 19,
   "metadata": {},
   "outputs": [],
   "source": [
    "def population(num, length):\n",
    "    pop = []\n",
    "    for j in range(num):\n",
    "        res = []\n",
    "        for i in range(length):\n",
    "            res.append(np.random.choice([0, 1], p=[0.5, 0.5]))\n",
    "        pop.append(''.join([str(i) for i in res]))\n",
    "    return pop"
   ]
  },
  {
   "cell_type": "markdown",
   "metadata": {},
   "source": [
    "### Using Fitness Proportionate Selection"
   ]
  },
  {
   "cell_type": "code",
   "execution_count": 252,
   "metadata": {
    "scrolled": false
   },
   "outputs": [
    {
     "name": "stdout",
     "output_type": "stream",
     "text": [
      "11111111\n"
     ]
    }
   ],
   "source": [
    "pop = population(100, 8)\n",
    "fitness = 0\n",
    "while fitness < len(pop[0]):\n",
    "    newpop = []\n",
    "    for i in range(len(pop)):\n",
    "        fitnesses = {}\n",
    "        for i in pop:\n",
    "            fitnesses[i] = i.count('1')\n",
    "        fitness = max(fitnesses.values())\n",
    "        value = max(fitnesses)\n",
    "        parents = fitness_proportionate_selection(list(fitnesses.keys()), list(fitnesses.values()))\n",
    "        offspring = crossover(parents[0], parents[1], 2)\n",
    "        offspring = mutations(offspring)\n",
    "        newpop.append(offspring)\n",
    "    pop = newpop\n",
    "print(value)"
   ]
  },
  {
   "cell_type": "markdown",
   "metadata": {},
   "source": [
    "### Using Tournment Selection"
   ]
  },
  {
   "cell_type": "code",
   "execution_count": 189,
   "metadata": {},
   "outputs": [
    {
     "name": "stdout",
     "output_type": "stream",
     "text": [
      "11111111\n"
     ]
    }
   ],
   "source": [
    "pop = population(100, 8)\n",
    "fitness = 0\n",
    "while fitness < len(pop[0]):\n",
    "    newpop = []\n",
    "    for i in range(len(pop)):\n",
    "        fitnesses = {}\n",
    "        for i in pop:\n",
    "            fitnesses[i] = i.count('1')\n",
    "        fitness = max(fitnesses.values())\n",
    "        value = max(fitnesses)\n",
    "        parents = tournment(list(fitnesses.keys()), 2)\n",
    "        offspring = crossover(parents[0], parents[1], 2)\n",
    "        offspring = mutations(offspring)\n",
    "        newpop.append(offspring)\n",
    "    pop = newpop\n",
    "print(value)"
   ]
  },
  {
   "cell_type": "markdown",
   "metadata": {},
   "source": [
    "## A Mutation Hill Climber"
   ]
  },
  {
   "cell_type": "code",
   "execution_count": 9,
   "metadata": {
    "scrolled": false
   },
   "outputs": [
    {
     "name": "stdout",
     "output_type": "stream",
     "text": [
      "Fitness: 12 \n",
      "Resulting Individual: ['111111111111']\n"
     ]
    }
   ],
   "source": [
    "#pop = population(1, 8)\n",
    "def hill_climber(pop):\n",
    "    fitness = pop[0].count('1')\n",
    "    while fitness < len(pop[0]):\n",
    "        res = mutations(*pop)\n",
    "        fitness2 = res.count('1')\n",
    "        if fitness2 > fitness:\n",
    "            pop = [res]\n",
    "            fitness = fitness2\n",
    "    return fitness, pop\n",
    "\n",
    "fitness, pop = hill_climber(['000000000000'])\n",
    "print('Fitness:', fitness, '\\nResulting Individual:', pop)"
   ]
  },
  {
   "cell_type": "markdown",
   "metadata": {},
   "source": [
    "## Uniform Crossover"
   ]
  },
  {
   "cell_type": "code",
   "execution_count": 23,
   "metadata": {},
   "outputs": [
    {
     "name": "stdout",
     "output_type": "stream",
     "text": [
      "00101110\n"
     ]
    }
   ],
   "source": [
    "def uniform_crossover(one, two):\n",
    "    res = []\n",
    "    for j in zip(one, two):\n",
    "        res.append(np.random.choice([j[0], j[1]], p=[0.5, 0.5]))\n",
    "    return ''.join(res)\n",
    "    \n",
    "print(uniform_crossover(one, two))"
   ]
  },
  {
   "cell_type": "markdown",
   "metadata": {},
   "source": [
    "## Rank Based Selection"
   ]
  },
  {
   "cell_type": "code",
   "execution_count": 17,
   "metadata": {},
   "outputs": [
    {
     "name": "stdout",
     "output_type": "stream",
     "text": [
      "{'000000000001': 1, '110001110000': 2, '111100001100': 3, '111111101111': 4}\n"
     ]
    },
    {
     "data": {
      "image/png": "[encoded data removed]",
      "text/plain": [
       "<Figure size 432x288 with 1 Axes>"
      ]
     },
     "metadata": {},
     "output_type": "display_data"
    },
    {
     "name": "stdout",
     "output_type": "stream",
     "text": [
      "Selected Parents:  ['111100001100', '000000000001']\n"
     ]
    }
   ],
   "source": [
    "#pop = population(4, 8)\n",
    "pop = [one, two, tree, four]\n",
    "ranks = {}\n",
    "for i in pop:\n",
    "    ranks[i] = i.count('1')\n",
    "\n",
    "a = np.sort(list(ranks.values()))\n",
    "res = {}\n",
    "for i in a:\n",
    "    for j, z in zip(list(ranks.values()), list(ranks.keys())):\n",
    "        if i==j:\n",
    "            res[z] = i\n",
    "            \n",
    "count = 0\n",
    "previous = np.inf\n",
    "for i, h in zip(list(res.values()), list(res.keys())):\n",
    "    if i != previous:\n",
    "        count += 1\n",
    "    res[h] = count\n",
    "    previous = i\n",
    "    \n",
    "print(res)\n",
    "    \n",
    "proportions = [i/sum(list(res.values())) for i in list(res.values())]\n",
    "            \n",
    "colors = ['gold', 'yellowgreen', 'lightcoral', 'lightskyblue']\n",
    "plt.pie(proportions, labels= list(res.keys()), colors=colors, autopct='%1.1f%%', \n",
    "        shadow=True, startangle=140)\n",
    "plt.axis('equal')\n",
    "plt.title('Rank-based Selection')\n",
    "plt.show()\n",
    "\n",
    "parents = []\n",
    "for i in range(2):\n",
    "    selected = np.random.choice(pop, p=proportions)\n",
    "    parents.append(selected)\n",
    "    for i, j in enumerate(pop):\n",
    "        if j == selected:\n",
    "            pop.pop(i)\n",
    "            proportions.pop(i)\n",
    "            proportions = [i/sum(proportions) for i in proportions]\n",
    "\n",
    "print('Selected Parents: ', parents)"
   ]
  },
  {
   "cell_type": "markdown",
   "metadata": {},
   "source": [
    "### Generational Genetic Algorithm Example"
   ]
  },
  {
   "cell_type": "code",
   "execution_count": 21,
   "metadata": {},
   "outputs": [],
   "source": [
    "def rank_selection(pop, fitnesses, number_of_parents):\n",
    "    ranks = {}\n",
    "    for i, j in zip(pop, fitnesses):\n",
    "        ranks[i] = j\n",
    "\n",
    "    a = np.sort(list(ranks.values()))\n",
    "    res = {}\n",
    "    for i in a:\n",
    "        for j, z in zip(list(ranks.values()), list(ranks.keys())):\n",
    "            if i==j:\n",
    "                res[z] = i\n",
    "\n",
    "    count = 0\n",
    "    previous = np.inf\n",
    "    for i, h in zip(list(res.values()), list(res.keys())):\n",
    "        if i != previous:\n",
    "            count += 1\n",
    "        res[h] = count\n",
    "        previous = i\n",
    "\n",
    "    proportions = [i/sum(list(res.values())) for i in list(res.values())]\n",
    "\n",
    "    parents = []\n",
    "    for i in range(number_of_parents):\n",
    "        selected = np.random.choice(pop, p=proportions)\n",
    "        parents.append(selected)\n",
    "        for i, j in enumerate(pop):\n",
    "            if j == selected:\n",
    "                pop.pop(i)\n",
    "                proportions.pop(i)\n",
    "                proportions = [i/sum(proportions) for i in proportions]\n",
    "                \n",
    "    return parents"
   ]
  },
  {
   "cell_type": "code",
   "execution_count": 22,
   "metadata": {},
   "outputs": [
    {
     "name": "stdout",
     "output_type": "stream",
     "text": [
      "111111111111\n"
     ]
    }
   ],
   "source": [
    "pop = population(100, 12)\n",
    "fitness = 0\n",
    "while fitness < len(pop[0]):\n",
    "    newpop = []\n",
    "    for i in range(len(pop)):\n",
    "        fitnesses = {}\n",
    "        for i in pop:\n",
    "            fitnesses[i] = i.count('1')\n",
    "        fitness = max(fitnesses.values())\n",
    "        value = max(fitnesses)\n",
    "        parents = rank_selection(list(fitnesses.keys()), list(fitnesses.values()), 10)\n",
    "        offspring = crossover(parents[0], parents[1], 2)\n",
    "        offspring = mutations(offspring)\n",
    "        newpop.append(offspring)\n",
    "    pop = newpop\n",
    "print(value)"
   ]
  },
  {
   "cell_type": "markdown",
   "metadata": {},
   "source": [
    "## Steady State Genetic Algorithm"
   ]
  },
  {
   "cell_type": "code",
   "execution_count": 23,
   "metadata": {},
   "outputs": [
    {
     "name": "stdout",
     "output_type": "stream",
     "text": [
      "111111111111\n"
     ]
    }
   ],
   "source": [
    "pop = population(100, 12)\n",
    "fitness = 0\n",
    "while fitness < len(pop[0]):\n",
    "    fitnesses = {}\n",
    "    for i in pop:\n",
    "        fitnesses[i] = i.count('1')\n",
    "    fitness = max(fitnesses.values())\n",
    "    value = max(fitnesses)\n",
    "    parents = rank_selection(list(fitnesses.keys()), list(fitnesses.values()), 2)\n",
    "    offspring = crossover(parents[0], parents[1], 2)\n",
    "    offspring = mutations(offspring)\n",
    "    for j, i in enumerate(pop):\n",
    "        if i == min(fitnesses):\n",
    "            pop.pop(j)\n",
    "            break\n",
    "    pop.append(offspring)\n",
    "print(value)"
   ]
  }
 ],
 "metadata": {
  "kernelspec": {
   "display_name": "Python 3",
   "language": "python",
   "name": "python3"
  },
  "language_info": {
   "codemirror_mode": {
    "name": "ipython",
    "version": 3
   },
   "file_extension": ".py",
   "mimetype": "text/x-python",
   "name": "python",
   "nbconvert_exporter": "python",
   "pygments_lexer": "ipython3",
   "version": "3.7.3"
  },
  "toc": {
   "base_numbering": 1,
   "nav_menu": {},
   "number_sections": true,
   "sideBar": true,
   "skip_h1_title": true,
   "title_cell": "Table of Contents",
   "title_sidebar": "Contents",
   "toc_cell": true,
   "toc_position": {},
   "toc_section_display": true,
   "toc_window_display": false
  },
  "varInspector": {
   "cols": {
    "lenName": 16,
    "lenType": 16,
    "lenVar": 40
   },
   "kernels_config": {
    "python": {
     "delete_cmd_postfix": "",
     "delete_cmd_prefix": "del ",
     "library": "var_list.py",
     "varRefreshCmd": "print(var_dic_list())"
    },
    "r": {
     "delete_cmd_postfix": ") ",
     "delete_cmd_prefix": "rm(",
     "library": "var_list.r",
     "varRefreshCmd": "cat(var_dic_list()) "
    }
   },
   "types_to_exclude": [
    "module",
    "function",
    "builtin_function_or_method",
    "instance",
    "_Feature"
   ],
   "window_display": false
  }
 },
 "nbformat": 4,
 "nbformat_minor": 2
}
